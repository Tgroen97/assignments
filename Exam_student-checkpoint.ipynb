{
 "cells": [
  {
   "cell_type": "markdown",
   "metadata": {},
   "source": [
    "# Exam R\n",
    "Mark Klik & Misja Mikkers\n",
    "\n",
    "# Introduction\n",
    "\n",
    "The exam consists of 2 parts. In the first part, you have to run a regression, test if the assumptions of a linear regression model are met, and make 2 graphs.\n",
    "\n",
    "In the second part of the exam, you will have to make a map of Catholic and Protestant schools in the Netherlands.\n",
    "\n",
    "# Packages\n"
   ]
  },
  {
   "cell_type": "code",
   "execution_count": 11,
   "metadata": {},
   "outputs": [
    {
     "name": "stderr",
     "output_type": "stream",
     "text": [
      "-- Attaching packages --------------------------------------- tidyverse 1.2.1 --\n",
      "v ggplot2 2.2.1     v purrr   0.2.4\n",
      "v tibble  1.4.1     v dplyr   0.7.4\n",
      "v tidyr   0.7.2     v stringr 1.2.0\n",
      "v readr   1.1.1     v forcats 0.2.0\n",
      "-- Conflicts ------------------------------------------ tidyverse_conflicts() --\n",
      "x dplyr::filter() masks stats::filter()\n",
      "x dplyr::lag()    masks stats::lag()\n"
     ]
    },
    {
     "name": "stdout",
     "output_type": "stream",
     "text": [
      "package 'gvlma' successfully unpacked and MD5 sums checked\n",
      "\n",
      "The downloaded binary packages are in\n",
      "\tC:\\Users\\Nbaterry\\AppData\\Local\\Temp\\RtmpaghWWW\\downloaded_packages\n"
     ]
    }
   ],
   "source": [
    "library(tidyverse)\n",
    "install.packages('gvlma')\n",
    "library(gvlma)"
   ]
  },
  {
   "cell_type": "markdown",
   "metadata": {},
   "source": [
    "# Assignment 1\n",
    "\n",
    "\n",
    "## Data\n",
    "\n",
    "The data are given:\n"
   ]
  },
  {
   "cell_type": "code",
   "execution_count": 19,
   "metadata": {},
   "outputs": [],
   "source": [
    "set.seed(123)\n",
    "df1 <- as.data.frame(matrix(runif(1*50, min = 1, max = 10), ncol = 1)) %>%\n",
    "    mutate(epsilon = rnorm(50, mean = 0, sd = 2)) %>%\n",
    "    mutate(response = 3 - 2* V1  + epsilon) %>%\n",
    "    mutate(group = ifelse(V1 <= 5, 1,2))\n",
    "    \n"
   ]
  },
  {
   "cell_type": "markdown",
   "metadata": {},
   "source": [
    "## Asignment 1a\n",
    "\n",
    "The first assigment is to make boxplot using ggplot with group on the x-axis and V1 on the y-axis."
   ]
  },
  {
   "cell_type": "code",
   "execution_count": 20,
   "metadata": {},
   "outputs": [
    {
     "data": {},
     "metadata": {},
     "output_type": "display_data"
    },
    {
     "data": {
      "image/png": "[encoded data removed]",
      "text/plain": [
       "plot without title"
      ]
     },
     "metadata": {},
     "output_type": "display_data"
    }
   ],
   "source": [
    "ggplot(df1, aes(factor(group), V1))+\n",
    "geom_boxplot()"
   ]
  },
  {
   "cell_type": "markdown",
   "metadata": {},
   "source": [
    "## Assignment 1b\n",
    "\n",
    "Run a regression with response variable as a function of V1.\n",
    "Show the summary statistics of the regression.\n"
   ]
  },
  {
   "cell_type": "code",
   "execution_count": 21,
   "metadata": {},
   "outputs": [
    {
     "data": {
      "text/plain": [
       "\n",
       "Call:\n",
       "lm(formula = response ~ V1, data = df1)\n",
       "\n",
       "Residuals:\n",
       "    Min      1Q  Median      3Q     Max \n",
       "-4.5116 -1.1157 -0.1313  1.0985  4.3723 \n",
       "\n",
       "Coefficients:\n",
       "            Estimate Std. Error t value Pr(>|t|)    \n",
       "(Intercept)   2.6305     0.6347   4.145 0.000138 ***\n",
       "V1           -1.9152     0.1014 -18.880  < 2e-16 ***\n",
       "---\n",
       "Signif. codes:  0 '***' 0.001 '**' 0.01 '*' 0.05 '.' 0.1 ' ' 1\n",
       "\n",
       "Residual standard error: 1.881 on 48 degrees of freedom\n",
       "Multiple R-squared:  0.8813,\tAdjusted R-squared:  0.8788 \n",
       "F-statistic: 356.4 on 1 and 48 DF,  p-value: < 2.2e-16\n"
      ]
     },
     "metadata": {},
     "output_type": "display_data"
    }
   ],
   "source": [
    "reg1 <- lm(data = df1, response ~ V1)\n",
    "summary(reg1)"
   ]
  },
  {
   "cell_type": "markdown",
   "metadata": {},
   "source": [
    "check if the assumptions of linear regression are met with the `gvlma()` function."
   ]
  },
  {
   "cell_type": "code",
   "execution_count": 22,
   "metadata": {},
   "outputs": [
    {
     "data": {
      "text/plain": [
       "\n",
       "Call:\n",
       "lm(formula = response ~ V1, data = df1)\n",
       "\n",
       "Coefficients:\n",
       "(Intercept)           V1  \n",
       "      2.630       -1.915  \n",
       "\n",
       "\n",
       "ASSESSMENT OF THE LINEAR MODEL ASSUMPTIONS\n",
       "USING THE GLOBAL TEST ON 4 DEGREES-OF-FREEDOM:\n",
       "Level of Significance =  0.05 \n",
       "\n",
       "Call:\n",
       " gvlma(x = reg1) \n",
       "\n",
       "                      Value p-value                Decision\n",
       "Global Stat        0.654319  0.9568 Assumptions acceptable.\n",
       "Skewness           0.002398  0.9609 Assumptions acceptable.\n",
       "Kurtosis           0.007200  0.9324 Assumptions acceptable.\n",
       "Link Function      0.005852  0.9390 Assumptions acceptable.\n",
       "Heteroscedasticity 0.638869  0.4241 Assumptions acceptable."
      ]
     },
     "metadata": {},
     "output_type": "display_data"
    }
   ],
   "source": [
    "gvlma(reg1)"
   ]
  },
  {
   "cell_type": "markdown",
   "metadata": {},
   "source": [
    "## Assignment 1c\n",
    "\n",
    "Make a scatterplot with: \n",
    "* V1 on the x-axis and the response on the y-axis\n",
    "* Include the regression line in red with confidence interval \n",
    "* In a classic theme\n",
    "* The x-axis should be labeled \"Predictor\", the y-axis should be labeled (\"Response\")\n",
    "\n"
   ]
  },
  {
   "cell_type": "code",
   "execution_count": 40,
   "metadata": {},
   "outputs": [
    {
     "data": {},
     "metadata": {},
     "output_type": "display_data"
    },
    {
     "data": {
      "image/png": "[encoded data removed]",
      "text/plain": [
       "plot without title"
      ]
     },
     "metadata": {},
     "output_type": "display_data"
    }
   ],
   "source": [
    "ggplot(data = df1, aes(x = V1, y = response)) + geom_point() + geom_smooth(method = lm, col = 'red') +labs(x = 'Predictor', y = 'Response') + theme_classic()"
   ]
  },
  {
   "cell_type": "markdown",
   "metadata": {},
   "source": [
    "# Assigment 2\n",
    "\n",
    "# Packages"
   ]
  },
  {
   "cell_type": "code",
   "execution_count": 41,
   "metadata": {},
   "outputs": [
    {
     "name": "stdout",
     "output_type": "stream",
     "text": [
      "package 'maptools' successfully unpacked and MD5 sums checked\n",
      "package 'rgdal' successfully unpacked and MD5 sums checked\n",
      "package 'rgeos' successfully unpacked and MD5 sums checked\n",
      "\n",
      "The downloaded binary packages are in\n",
      "\tC:\\Users\\Nbaterry\\AppData\\Local\\Temp\\RtmpaghWWW\\downloaded_packages\n"
     ]
    },
    {
     "name": "stderr",
     "output_type": "stream",
     "text": [
      "Warning message:\n",
      "\"running command '\"C:/Users/Nbaterry/Anaconda3/lib/R/bin/x64/R\" CMD INSTALL -l \"C:\\Users\\Nbaterry\\Anaconda3\\Lib\\R\\library\" \"../Package//thematicmaps_2.1.tar.gz\"' had status 1\"Warning message in install.packages(\"../Package//thematicmaps_2.1.tar.gz\", repos = NULL, :\n",
      "\"installation of package '../Package//thematicmaps_2.1.tar.gz' had non-zero exit status\""
     ]
    },
    {
     "ename": "ERROR",
     "evalue": "Error in library(thematicmaps): there is no package called 'thematicmaps'\n",
     "output_type": "error",
     "traceback": [
      "Error in library(thematicmaps): there is no package called 'thematicmaps'\nTraceback:\n",
      "1. library(thematicmaps)",
      "2. stop(txt, domain = NA)"
     ]
    }
   ],
   "source": [
    "install.packages(c(\"maptools\", 'rgdal','rgeos'))\n",
    "install.packages(\"../Package//thematicmaps_2.1.tar.gz\", repos = NULL, type = \"source\")\n",
    "library(thematicmaps)\n",
    "library(tidyverse)"
   ]
  },
  {
   "cell_type": "markdown",
   "metadata": {},
   "source": [
    "## Assignment 2a\n",
    "\n",
    "First you have to read in the file \"nld_municipal_map.csv\".\n",
    "Hint: Look at the notebook of week 6 about maps."
   ]
  },
  {
   "cell_type": "code",
   "execution_count": null,
   "metadata": {},
   "outputs": [],
   "source": [
    "map_municipal <- read.csv(file= \"nld_municipal_map.csv\" , header=TRUE, sep = \";\")\n",
    "head(map_municipal)"
   ]
  },
  {
   "cell_type": "markdown",
   "metadata": {},
   "source": [
    "## Assignment 2b\n",
    "\n",
    "Now you can make an empty map of the Netherlands."
   ]
  },
  {
   "cell_type": "code",
   "execution_count": null,
   "metadata": {},
   "outputs": [],
   "source": [
    "AddMapLayer(MapPlot(), map_municipal)"
   ]
  },
  {
   "cell_type": "markdown",
   "metadata": {},
   "source": [
    "## Assignment 2c\n",
    "\n",
    "Read in the pc4 locations (nld_pc4_locations.csv).\n",
    "\n",
    "Hint: Don't forget the X and Y should be numeric variables!"
   ]
  },
  {
   "cell_type": "code",
   "execution_count": null,
   "metadata": {},
   "outputs": [],
   "source": [
    "pc4_locations <- read.csv(file= \"nld_pc4_locations.csv\" , header=TRUE, sep = \";\")\n",
    "str(pc4_locations)\n"
   ]
  },
  {
   "cell_type": "markdown",
   "metadata": {},
   "source": [
    "## Assignment 2d\n",
    "\n",
    "### 2di\n",
    "\n",
    "Read in the school data\n"
   ]
  },
  {
   "cell_type": "code",
   "execution_count": null,
   "metadata": {},
   "outputs": [],
   "source": [
    "schools <- read.csv(file= \"schools.csv\" , header=TRUE, sep = \";\")\n",
    "\n",
    "head(schools)\n"
   ]
  },
  {
   "cell_type": "markdown",
   "metadata": {},
   "source": [
    "### 2dii\n",
    "\n",
    "First, create a new dataframe schools1, which is equal to schools.\n",
    "\n",
    "As you see POSTCODE has a structure of (1234 AB). You should create a new variable PC4 that is equal to the first 4 numbers in POSTCODE\n",
    "\n",
    "Hint: Use the function `substr()`\n",
    "\n",
    "Then select the variables PC4 and DENOMINATIE"
   ]
  },
  {
   "cell_type": "code",
   "execution_count": null,
   "metadata": {},
   "outputs": [],
   "source": [
    "PC4 <- substr(schools$POSTCODE,1,4)"
   ]
  },
  {
   "cell_type": "markdown",
   "metadata": {},
   "source": [
    "### 2diii\n",
    "\n",
    "Create the dataframe school_loc as a join from pc4_locations and school1 that combines the columns from both data frames, but only keeps rows where the value in the pc4_locations column matches in both data frames.\n",
    "And then select the observations with DENOMINATIE is equal to \"Rooms-Katholiek\" or \"Protestants-Christelijk\""
   ]
  },
  {
   "cell_type": "code",
   "execution_count": 6,
   "metadata": {},
   "outputs": [
    {
     "data": {
      "text/html": [
       "<table>\n",
       "<thead><tr><th scope=col>PC4</th><th scope=col>X</th><th scope=col>Y</th><th scope=col>PROVINCIE</th><th scope=col>BEVOEGD.GEZAG.NUMMER</th><th scope=col>BRIN.NUMMER</th><th scope=col>VESTIGINGSNUMMER</th><th scope=col>VESTIGINGSNAAM</th><th scope=col>STRAATNAAM</th><th scope=col>HUISNUMMER.TOEVOEGING</th><th scope=col>...</th><th scope=col>RPA.GEBIED.CODE</th><th scope=col>RPA.GEBIED.NAAM</th><th scope=col>WGR.GEBIED.CODE</th><th scope=col>WGR.GEBIED.NAAM</th><th scope=col>COROPGEBIED.CODE</th><th scope=col>COROPGEBIED.NAAM</th><th scope=col>ONDERWIJSGEBIED.CODE</th><th scope=col>ONDERWIJSGEBIED.NAAM</th><th scope=col>RMC.REGIO.CODE</th><th scope=col>RMC.REGIO.NAAM</th></tr></thead>\n",
       "<tbody>\n",
       "\t<tr><td>1011                                    </td><td>122244.1                                </td><td>487223.1                                </td><td>                                        </td><td>41152                                   </td><td>23HC                                    </td><td>23HC04                                  </td><td>RSG Lingecollege                        </td><td>                                        </td><td>                                        </td><td>...                                     </td><td>NA                                      </td><td>                                        </td><td>NA                                      </td><td>                                        </td><td>NA                                      </td><td>                                        </td><td>NA                                      </td><td>                                        </td><td>NA                                      </td><td>                                        </td></tr>\n",
       "\t<tr><td>1012                                    </td><td>121612.8                                </td><td>487555.4                                </td><td>                                        </td><td>41152                                   </td><td>23HC                                    </td><td>23HC04                                  </td><td>RSG Lingecollege                        </td><td>                                        </td><td>                                        </td><td>...                                     </td><td>NA                                      </td><td>                                        </td><td>NA                                      </td><td>                                        </td><td>NA                                      </td><td>                                        </td><td>NA                                      </td><td>                                        </td><td>NA                                      </td><td>                                        </td></tr>\n",
       "\t<tr><td>1013                                    </td><td>120324.5                                </td><td>489671.7                                </td><td>                                        </td><td>41152                                   </td><td>23HC                                    </td><td>23HC04                                  </td><td>RSG Lingecollege                        </td><td>                                        </td><td>                                        </td><td>...                                     </td><td>NA                                      </td><td>                                        </td><td>NA                                      </td><td>                                        </td><td>NA                                      </td><td>                                        </td><td>NA                                      </td><td>                                        </td><td>NA                                      </td><td>                                        </td></tr>\n",
       "\t<tr><td>1014                                    </td><td>119515.0                                </td><td>489421.7                                </td><td>                                        </td><td>41152                                   </td><td>23HC                                    </td><td>23HC04                                  </td><td>RSG Lingecollege                        </td><td>                                        </td><td>                                        </td><td>...                                     </td><td>NA                                      </td><td>                                        </td><td>NA                                      </td><td>                                        </td><td>NA                                      </td><td>                                        </td><td>NA                                      </td><td>                                        </td><td>NA                                      </td><td>                                        </td></tr>\n",
       "\t<tr><td>1015                                    </td><td>120740.5                                </td><td>488009.3                                </td><td>                                        </td><td>41152                                   </td><td>23HC                                    </td><td>23HC04                                  </td><td>RSG Lingecollege                        </td><td>                                        </td><td>                                        </td><td>...                                     </td><td>NA                                      </td><td>                                        </td><td>NA                                      </td><td>                                        </td><td>NA                                      </td><td>                                        </td><td>NA                                      </td><td>                                        </td><td>NA                                      </td><td>                                        </td></tr>\n",
       "\t<tr><td>1016                                    </td><td>120537.8                                </td><td>487075.4                                </td><td>                                        </td><td>41152                                   </td><td>23HC                                    </td><td>23HC04                                  </td><td>RSG Lingecollege                        </td><td>                                        </td><td>                                        </td><td>...                                     </td><td>NA                                      </td><td>                                        </td><td>NA                                      </td><td>                                        </td><td>NA                                      </td><td>                                        </td><td>NA                                      </td><td>                                        </td><td>NA                                      </td><td>                                        </td></tr>\n",
       "</tbody>\n",
       "</table>\n"
      ],
      "text/latex": [
       "\\begin{tabular}{r|llllllllllllllllllllllllllllllllll}\n",
       " PC4 & X & Y & PROVINCIE & BEVOEGD.GEZAG.NUMMER & BRIN.NUMMER & VESTIGINGSNUMMER & VESTIGINGSNAAM & STRAATNAAM & HUISNUMMER.TOEVOEGING & ... & RPA.GEBIED.CODE & RPA.GEBIED.NAAM & WGR.GEBIED.CODE & WGR.GEBIED.NAAM & COROPGEBIED.CODE & COROPGEBIED.NAAM & ONDERWIJSGEBIED.CODE & ONDERWIJSGEBIED.NAAM & RMC.REGIO.CODE & RMC.REGIO.NAAM\\\\\n",
       "\\hline\n",
       "\t 1011                                     & 122244.1                                 & 487223.1                                 &                                          & 41152                                    & 23HC                                     & 23HC04                                   & RSG Lingecollege                         &                                          &                                          & ...                                      & NA                                       &                                          & NA                                       &                                          & NA                                       &                                          & NA                                       &                                          & NA                                       &                                         \\\\\n",
       "\t 1012                                     & 121612.8                                 & 487555.4                                 &                                          & 41152                                    & 23HC                                     & 23HC04                                   & RSG Lingecollege                         &                                          &                                          & ...                                      & NA                                       &                                          & NA                                       &                                          & NA                                       &                                          & NA                                       &                                          & NA                                       &                                         \\\\\n",
       "\t 1013                                     & 120324.5                                 & 489671.7                                 &                                          & 41152                                    & 23HC                                     & 23HC04                                   & RSG Lingecollege                         &                                          &                                          & ...                                      & NA                                       &                                          & NA                                       &                                          & NA                                       &                                          & NA                                       &                                          & NA                                       &                                         \\\\\n",
       "\t 1014                                     & 119515.0                                 & 489421.7                                 &                                          & 41152                                    & 23HC                                     & 23HC04                                   & RSG Lingecollege                         &                                          &                                          & ...                                      & NA                                       &                                          & NA                                       &                                          & NA                                       &                                          & NA                                       &                                          & NA                                       &                                         \\\\\n",
       "\t 1015                                     & 120740.5                                 & 488009.3                                 &                                          & 41152                                    & 23HC                                     & 23HC04                                   & RSG Lingecollege                         &                                          &                                          & ...                                      & NA                                       &                                          & NA                                       &                                          & NA                                       &                                          & NA                                       &                                          & NA                                       &                                         \\\\\n",
       "\t 1016                                     & 120537.8                                 & 487075.4                                 &                                          & 41152                                    & 23HC                                     & 23HC04                                   & RSG Lingecollege                         &                                          &                                          & ...                                      & NA                                       &                                          & NA                                       &                                          & NA                                       &                                          & NA                                       &                                          & NA                                       &                                         \\\\\n",
       "\\end{tabular}\n"
      ],
      "text/markdown": [
       "\n",
       "PC4 | X | Y | PROVINCIE | BEVOEGD.GEZAG.NUMMER | BRIN.NUMMER | VESTIGINGSNUMMER | VESTIGINGSNAAM | STRAATNAAM | HUISNUMMER.TOEVOEGING | ... | RPA.GEBIED.CODE | RPA.GEBIED.NAAM | WGR.GEBIED.CODE | WGR.GEBIED.NAAM | COROPGEBIED.CODE | COROPGEBIED.NAAM | ONDERWIJSGEBIED.CODE | ONDERWIJSGEBIED.NAAM | RMC.REGIO.CODE | RMC.REGIO.NAAM | \n",
       "|---|---|---|---|---|---|\n",
       "| 1011                                     | 122244.1                                 | 487223.1                                 |                                          | 41152                                    | 23HC                                     | 23HC04                                   | RSG Lingecollege                         |                                          |                                          | ...                                      | NA                                       |                                          | NA                                       |                                          | NA                                       |                                          | NA                                       |                                          | NA                                       |                                          | \n",
       "| 1012                                     | 121612.8                                 | 487555.4                                 |                                          | 41152                                    | 23HC                                     | 23HC04                                   | RSG Lingecollege                         |                                          |                                          | ...                                      | NA                                       |                                          | NA                                       |                                          | NA                                       |                                          | NA                                       |                                          | NA                                       |                                          | \n",
       "| 1013                                     | 120324.5                                 | 489671.7                                 |                                          | 41152                                    | 23HC                                     | 23HC04                                   | RSG Lingecollege                         |                                          |                                          | ...                                      | NA                                       |                                          | NA                                       |                                          | NA                                       |                                          | NA                                       |                                          | NA                                       |                                          | \n",
       "| 1014                                     | 119515.0                                 | 489421.7                                 |                                          | 41152                                    | 23HC                                     | 23HC04                                   | RSG Lingecollege                         |                                          |                                          | ...                                      | NA                                       |                                          | NA                                       |                                          | NA                                       |                                          | NA                                       |                                          | NA                                       |                                          | \n",
       "| 1015                                     | 120740.5                                 | 488009.3                                 |                                          | 41152                                    | 23HC                                     | 23HC04                                   | RSG Lingecollege                         |                                          |                                          | ...                                      | NA                                       |                                          | NA                                       |                                          | NA                                       |                                          | NA                                       |                                          | NA                                       |                                          | \n",
       "| 1016                                     | 120537.8                                 | 487075.4                                 |                                          | 41152                                    | 23HC                                     | 23HC04                                   | RSG Lingecollege                         |                                          |                                          | ...                                      | NA                                       |                                          | NA                                       |                                          | NA                                       |                                          | NA                                       |                                          | NA                                       |                                          | \n",
       "\n",
       "\n"
      ],
      "text/plain": [
       "  PC4  X        Y        PROVINCIE            BEVOEGD.GEZAG.NUMMER BRIN.NUMMER\n",
       "1 1011 122244.1 487223.1                      41152                23HC       \n",
       "2 1012 121612.8 487555.4                      41152                23HC       \n",
       "3 1013 120324.5 489671.7                      41152                23HC       \n",
       "4 1014 119515.0 489421.7                      41152                23HC       \n",
       "5 1015 120740.5 488009.3                      41152                23HC       \n",
       "6 1016 120537.8 487075.4                      41152                23HC       \n",
       "  VESTIGINGSNUMMER VESTIGINGSNAAM   STRAATNAAM              \n",
       "1 23HC04           RSG Lingecollege                         \n",
       "2 23HC04           RSG Lingecollege                         \n",
       "3 23HC04           RSG Lingecollege                         \n",
       "4 23HC04           RSG Lingecollege                         \n",
       "5 23HC04           RSG Lingecollege                         \n",
       "6 23HC04           RSG Lingecollege                         \n",
       "  HUISNUMMER.TOEVOEGING ... RPA.GEBIED.CODE RPA.GEBIED.NAAM         \n",
       "1                       ... NA                                      \n",
       "2                       ... NA                                      \n",
       "3                       ... NA                                      \n",
       "4                       ... NA                                      \n",
       "5                       ... NA                                      \n",
       "6                       ... NA                                      \n",
       "  WGR.GEBIED.CODE WGR.GEBIED.NAAM                         COROPGEBIED.CODE\n",
       "1 NA                                                      NA              \n",
       "2 NA                                                      NA              \n",
       "3 NA                                                      NA              \n",
       "4 NA                                                      NA              \n",
       "5 NA                                                      NA              \n",
       "6 NA                                                      NA              \n",
       "  COROPGEBIED.NAAM                    ONDERWIJSGEBIED.CODE\n",
       "1                                     NA                  \n",
       "2                                     NA                  \n",
       "3                                     NA                  \n",
       "4                                     NA                  \n",
       "5                                     NA                  \n",
       "6                                     NA                  \n",
       "  ONDERWIJSGEBIED.NAAM             RMC.REGIO.CODE\n",
       "1                                  NA            \n",
       "2                                  NA            \n",
       "3                                  NA            \n",
       "4                                  NA            \n",
       "5                                  NA            \n",
       "6                                  NA            \n",
       "  RMC.REGIO.NAAM                          \n",
       "1                                         \n",
       "2                                         \n",
       "3                                         \n",
       "4                                         \n",
       "5                                         \n",
       "6                                         "
      ]
     },
     "metadata": {},
     "output_type": "display_data"
    }
   ],
   "source": [
    "school_loc <- merge(pc4_locations,schools, all=TRUE)\n",
    "head(school_loc)"
   ]
  },
  {
   "cell_type": "markdown",
   "metadata": {},
   "source": [
    "## Assignment 2e\n",
    "\n",
    "Create a map of Catholic and Protestant schools in the Netherlands\n"
   ]
  },
  {
   "cell_type": "code",
   "execution_count": 17,
   "metadata": {},
   "outputs": [
    {
     "ename": "ERROR",
     "evalue": "Error in AddMapLayer(MapPlot(), map_municipal) %>% AddPointsLayer(school_loc): could not find function \"%>%\"\n",
     "output_type": "error",
     "traceback": [
      "Error in AddMapLayer(MapPlot(), map_municipal) %>% AddPointsLayer(school_loc): could not find function \"%>%\"\nTraceback:\n"
     ]
    }
   ],
   "source": [
    "AddMapLayer(MapPlot(), map_municipal) %>%\n",
    "AddPointsLayer(school_loc) "
   ]
  },
  {
   "cell_type": "markdown",
   "metadata": {},
   "source": [
    "End of notebook"
   ]
  }
 ],
 "metadata": {
  "anaconda-cloud": {},
  "kernelspec": {
   "display_name": "R",
   "language": "R",
   "name": "ir"
  },
  "language_info": {
   "codemirror_mode": "r",
   "file_extension": ".r",
   "mimetype": "text/x-r-source",
   "name": "R",
   "pygments_lexer": "r",
   "version": "3.4.3"
  }
 },
 "nbformat": 4,
 "nbformat_minor": 1
}
